{
 "cells": [
  {
   "cell_type": "markdown",
   "id": "02bf9c39-dd22-493d-893c-31b983b06cc7",
   "metadata": {},
   "source": [
    "Q1. Explain Class and Object with respect to Object-Oriented Programming. Give a suitable example."
   ]
  },
  {
   "cell_type": "markdown",
   "id": "63b41b9e-3869-456a-83e1-4921590c8e93",
   "metadata": {},
   "source": [
    "Class is a blueprint or a template for creating objects.\n",
    "while an object is an instance or a copy of the class with actual values.\n"
   ]
  },
  {
   "cell_type": "code",
   "execution_count": 4,
   "id": "a1bab1be-c027-4d1d-889f-5c426eea2607",
   "metadata": {},
   "outputs": [
    {
     "name": "stdout",
     "output_type": "stream",
     "text": [
      "darshan\n",
      "25\n"
     ]
    }
   ],
   "source": [
    "class details:        #create class\n",
    "    name=\"darshan\"\n",
    "    age = 25\n",
    "obj =details()\n",
    "print(obj.name)\n",
    "print(obj.age)\n",
    "    "
   ]
  },
  {
   "cell_type": "markdown",
   "id": "a9575711-da64-485d-927d-62f0cebf6fbe",
   "metadata": {},
   "source": [
    "Q2. Name the four pillars of OOPs."
   ]
  },
  {
   "cell_type": "markdown",
   "id": "32dbccc7-99fd-4a73-bc27-682405a10a1e",
   "metadata": {},
   "source": [
    "The four pillars of OOPs are Polymorphism, Encapsulation, Inheritance and Abstraction."
   ]
  },
  {
   "cell_type": "markdown",
   "id": "0b919907-f746-49c8-a5b2-72ee5d025c37",
   "metadata": {},
   "source": [
    "Q3. Explain why the __init__() function is used. Give a suitable example."
   ]
  },
  {
   "cell_type": "markdown",
   "id": "09fe57e9-42c0-417b-81e7-0d59064af7e8",
   "metadata": {},
   "source": [
    "The __init__ method is used to initialize the object’s state and \n",
    "contains statements that are executed at the time of object creation."
   ]
  },
  {
   "cell_type": "code",
   "execution_count": 8,
   "id": "f6e86eb6-1d6d-449b-9ece-20ab1ce81112",
   "metadata": {},
   "outputs": [],
   "source": [
    "class pwskills():\n",
    "    def __init__(self,name,course):\n",
    "        self.name = name\n",
    "        self.course = course\n",
    "        \n",
    "    def student_info(self):\n",
    "        return self.name ,self.course"
   ]
  },
  {
   "cell_type": "code",
   "execution_count": 9,
   "id": "2317a0b0-a2da-49e7-a72d-91915895b386",
   "metadata": {},
   "outputs": [
    {
     "data": {
      "text/plain": [
       "('DARSHAN', 'Data Science')"
      ]
     },
     "execution_count": 9,
     "metadata": {},
     "output_type": "execute_result"
    }
   ],
   "source": [
    "S1 = pwskills('DARSHAN', 'Data Science')\n",
    "S1.student_info()"
   ]
  },
  {
   "cell_type": "markdown",
   "id": "4101d305-6c13-473b-a1b1-f35653d0efb7",
   "metadata": {},
   "source": [
    "Q4. Why self is used in OOPs?"
   ]
  },
  {
   "cell_type": "markdown",
   "id": "68bc2453-dd3b-4f0d-95e5-c2a833263381",
   "metadata": {},
   "source": [
    "The self parameter refers to the instance of the class.It is automatically passed with a function call from an object and differentiates the class variable and object variable."
   ]
  },
  {
   "cell_type": "markdown",
   "id": "91583cbd-7035-46b9-bdd1-e407a787e5bc",
   "metadata": {},
   "source": [
    "Q5. What is inheritance? Give an example for each type of inheritance."
   ]
  },
  {
   "cell_type": "markdown",
   "id": "71aa56be-4b0a-4d06-94ed-75020bd6029b",
   "metadata": {},
   "source": [
    "Inheritance is a fundamental concept in object-oriented programming (OOP) that allows a new class to be based on an existing class, inheriting its attributes and methods."
   ]
  },
  {
   "cell_type": "code",
   "execution_count": 13,
   "id": "17f58492-1037-43bc-8433-186ef94f08a7",
   "metadata": {},
   "outputs": [
    {
     "name": "stdout",
     "output_type": "stream",
     "text": [
      "Buddy\n",
      "3\n",
      "Golden Retriever\n"
     ]
    }
   ],
   "source": [
    "# single inheritance\n",
    "class Animal:\n",
    "    def __init__(self, name, age):\n",
    "        self.name = name\n",
    "        self.age = age\n",
    "\n",
    "class Dog(Animal):\n",
    "    def __init__(self, name, age, breed):\n",
    "        super().__init__(name, age)\n",
    "        self.breed = breed\n",
    "\n",
    "dog = Dog(\"Buddy\", 3, \"Golden Retriever\")\n",
    "print(dog.name)\n",
    "print(dog.age)\n",
    "print(dog.breed)"
   ]
  },
  {
   "cell_type": "code",
   "execution_count": 14,
   "id": "599b74fa-ce6d-4078-b558-e4f35e7b4ae2",
   "metadata": {},
   "outputs": [
    {
     "name": "stdout",
     "output_type": "stream",
     "text": [
      "Vehicle is moving\n",
      "Playing music on frequency 101.1\n",
      "Honk honk!\n",
      "60\n",
      "Sedan\n"
     ]
    }
   ],
   "source": [
    "#multiple inheritance\n",
    "class Vehicle:\n",
    "    def __init__(self, speed):\n",
    "        self.speed = speed\n",
    "\n",
    "    def move(self):\n",
    "        print(\"Vehicle is moving\")\n",
    "\n",
    "class Radio:\n",
    "    def __init__(self, frequency):\n",
    "        self.frequency = frequency\n",
    "\n",
    "    def play_music(self):\n",
    "        print(\"Playing music on frequency\", self.frequency)\n",
    "\n",
    "class Car(Vehicle, Radio):\n",
    "    def __init__(self, speed, frequency, model):\n",
    "        Vehicle.__init__(self, speed)\n",
    "        Radio.__init__(self, frequency)\n",
    "        self.model = model\n",
    "\n",
    "    def honk(self):\n",
    "        print(\"Honk honk!\")\n",
    "\n",
    "car = Car(60, 101.1, \"Sedan\")\n",
    "car.move()\n",
    "car.play_music()\n",
    "car.honk()\n",
    "print(car.speed)\n",
    "print(car.model)"
   ]
  },
  {
   "cell_type": "code",
   "execution_count": null,
   "id": "14c8b963-716c-4f39-b56e-551e3effbd87",
   "metadata": {},
   "outputs": [],
   "source": []
  }
 ],
 "metadata": {
  "kernelspec": {
   "display_name": "Python 3 (ipykernel)",
   "language": "python",
   "name": "python3"
  },
  "language_info": {
   "codemirror_mode": {
    "name": "ipython",
    "version": 3
   },
   "file_extension": ".py",
   "mimetype": "text/x-python",
   "name": "python",
   "nbconvert_exporter": "python",
   "pygments_lexer": "ipython3",
   "version": "3.10.8"
  }
 },
 "nbformat": 4,
 "nbformat_minor": 5
}
